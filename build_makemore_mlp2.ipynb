{
 "cells": [
  {
   "cell_type": "code",
   "execution_count": 50,
   "metadata": {},
   "outputs": [],
   "source": [
    "import torch\n",
    "import torch.nn.functional as F\n",
    "import matplotlib.pyplot as plt # for making figures\n",
    "%matplotlib inline"
   ]
  },
  {
   "cell_type": "code",
   "execution_count": 51,
   "metadata": {},
   "outputs": [
    {
     "data": {
      "text/plain": [
       "['emma', 'olivia', 'ava', 'isabella', 'sophia', 'charlotte', 'mia', 'amelia']"
      ]
     },
     "execution_count": 51,
     "metadata": {},
     "output_type": "execute_result"
    }
   ],
   "source": [
    "# read in all the words\n",
    "words = open('names.txt', 'r').read().splitlines()\n",
    "words[:8]"
   ]
  },
  {
   "cell_type": "code",
   "execution_count": 52,
   "metadata": {},
   "outputs": [
    {
     "data": {
      "text/plain": [
       "32033"
      ]
     },
     "execution_count": 52,
     "metadata": {},
     "output_type": "execute_result"
    }
   ],
   "source": [
    "len(words)"
   ]
  },
  {
   "cell_type": "code",
   "execution_count": 53,
   "metadata": {},
   "outputs": [
    {
     "name": "stdout",
     "output_type": "stream",
     "text": [
      "{1: 'a', 2: 'b', 3: 'c', 4: 'd', 5: 'e', 6: 'f', 7: 'g', 8: 'h', 9: 'i', 10: 'j', 11: 'k', 12: 'l', 13: 'm', 14: 'n', 15: 'o', 16: 'p', 17: 'q', 18: 'r', 19: 's', 20: 't', 21: 'u', 22: 'v', 23: 'w', 24: 'x', 25: 'y', 26: 'z', 0: '.'}\n",
      "27\n"
     ]
    }
   ],
   "source": [
    "# build the vocabulary of characters and mappings to/from integers\n",
    "chars = sorted(list(set(''.join(words))))\n",
    "stoi = {s:i+1 for i,s in enumerate(chars)}\n",
    "stoi['.'] = 0\n",
    "itos = {i:s for s,i in stoi.items()}\n",
    "vocab_size = len(itos)\n",
    "print(itos)\n",
    "print(vocab_size)"
   ]
  },
  {
   "cell_type": "code",
   "execution_count": 54,
   "metadata": {},
   "outputs": [
    {
     "name": "stdout",
     "output_type": "stream",
     "text": [
      "torch.Size([182625, 3]) torch.Size([182625])\n",
      "torch.Size([22655, 3]) torch.Size([22655])\n",
      "torch.Size([22866, 3]) torch.Size([22866])\n"
     ]
    }
   ],
   "source": [
    "# build the dataset\n",
    "block_size = 3 # context length: how many characters do we take to predict the next one?\n",
    "\n",
    "def build_dataset(words):  \n",
    "  X, Y = [], []\n",
    "  \n",
    "  for w in words:\n",
    "    context = [0] * block_size\n",
    "    for ch in w + '.':\n",
    "      ix = stoi[ch]\n",
    "      X.append(context)\n",
    "      Y.append(ix)\n",
    "      context = context[1:] + [ix] # crop and append\n",
    "\n",
    "  X = torch.tensor(X)\n",
    "  Y = torch.tensor(Y)\n",
    "  print(X.shape, Y.shape)\n",
    "  return X, Y\n",
    "\n",
    "import random\n",
    "random.seed(42)\n",
    "random.shuffle(words)\n",
    "n1 = int(0.8*len(words))\n",
    "n2 = int(0.9*len(words))\n",
    "\n",
    "Xtr,  Ytr  = build_dataset(words[:n1])     # 80%\n",
    "Xdev, Ydev = build_dataset(words[n1:n2])   # 10%\n",
    "Xte,  Yte  = build_dataset(words[n2:])     # 10%"
   ]
  },
  {
   "cell_type": "code",
   "execution_count": 83,
   "metadata": {},
   "outputs": [
    {
     "name": "stdout",
     "output_type": "stream",
     "text": [
      "11897\n"
     ]
    }
   ],
   "source": [
    "# MLP revisited\n",
    "n_embd = 10 # the dimensionality of the character embedding vectors\n",
    "n_hidden = 200 # the number of neurons in the hidden layer of the MLP\n",
    "\n",
    "g = torch.Generator().manual_seed(2147483647) # for reproducibility\n",
    "C  = torch.randn((vocab_size, n_embd),            generator=g)\n",
    "# What are we multiplying by? 5/3 / sqrt(fan_in)\n",
    "# So the gain is 5/3 for tanh and the sqrt is for the fan_in\n",
    "# We use the value for tanh because we will be calling it on our W1 * b1 hidden layer\n",
    "# See: https://pytorch.org/docs/stable/nn.init.html\n",
    "# Also see Delving_deep_into_rectifiers - 2015\n",
    "W1 = torch.randn((n_embd * block_size, n_hidden), generator=g) * (5/3)/((n_embd * block_size)**0.5) #* 0.2\n",
    "b1 = torch.randn(n_hidden,                        generator=g) * 0.01\n",
    "W2 = torch.randn((n_hidden, vocab_size),          generator=g) * 0.01\n",
    "b2 = torch.randn(vocab_size,                      generator=g) * 0\n",
    "\n",
    "# BatchNorm parameters\n",
    "bngain = torch.ones((1, n_hidden))\n",
    "bnbias = torch.zeros((1, n_hidden))\n",
    "bnmean_running = torch.zeros((1, n_hidden))\n",
    "bnstd_running = torch.ones((1, n_hidden))\n",
    "\n",
    "#parameters = [C, W1, W2, b2, bngain, bnbias]\n",
    "parameters = [C, W1, b1, W2, b2]\n",
    "print(sum(p.nelement() for p in parameters)) # number of parameters in total\n",
    "for p in parameters:\n",
    "  p.requires_grad = True"
   ]
  },
  {
   "cell_type": "code",
   "execution_count": 84,
   "metadata": {},
   "outputs": [
    {
     "name": "stdout",
     "output_type": "stream",
     "text": [
      "      0/ 200000: 3.3147\n",
      "  10000/ 200000: 2.1942\n",
      "  20000/ 200000: 2.3443\n",
      "  30000/ 200000: 2.4160\n",
      "  40000/ 200000: 1.9913\n",
      "  50000/ 200000: 2.2978\n",
      "  60000/ 200000: 2.5254\n",
      "  70000/ 200000: 2.0707\n",
      "  80000/ 200000: 2.3107\n",
      "  90000/ 200000: 2.0663\n",
      " 100000/ 200000: 1.9933\n",
      " 110000/ 200000: 2.3179\n",
      " 120000/ 200000: 1.9123\n",
      " 130000/ 200000: 2.4505\n",
      " 140000/ 200000: 2.4321\n",
      " 150000/ 200000: 2.2003\n",
      " 160000/ 200000: 2.0463\n",
      " 170000/ 200000: 1.8839\n",
      " 180000/ 200000: 1.9983\n",
      " 190000/ 200000: 1.8873\n"
     ]
    }
   ],
   "source": [
    "# same optimization as last time\n",
    "max_steps = 200000\n",
    "batch_size = 32\n",
    "lossi = []\n",
    "\n",
    "for i in range(max_steps):\n",
    "  \n",
    "  # minibatch construct\n",
    "  ix = torch.randint(0, Xtr.shape[0], (batch_size,), generator=g)\n",
    "  Xb, Yb = Xtr[ix], Ytr[ix] # batch X,Y\n",
    "  \n",
    "  # forward pass\n",
    "  emb = C[Xb] # embed the characters into vectors\n",
    "  embcat = emb.view(emb.shape[0], -1) # concatenate the vectors\n",
    "  # Linear layer\n",
    "  hpreact = embcat @ W1 + b1 # hidden layer pre-activation\n",
    "  # BatchNorm layer\n",
    "  # -------------------------------------------------------------\n",
    "  bnmeani = hpreact.mean(0, keepdim=True)\n",
    "  bnstdi = hpreact.std(0, keepdim=True)\n",
    "  hpreact = bngain * (hpreact - bnmeani) / bnstdi + bnbias\n",
    "  with torch.no_grad():\n",
    "    bnmean_running = 0.999 * bnmean_running + 0.001 * bnmeani\n",
    "    bnstd_running = 0.999 * bnstd_running + 0.001 * bnstdi\n",
    "  # -------------------------------------------------------------\n",
    "  # Non-linearity\n",
    "  h = torch.tanh(hpreact) # hidden layer\n",
    "  logits = h @ W2 + b2 # output layer\n",
    "  loss = F.cross_entropy(logits, Yb) # loss function\n",
    "  \n",
    "  # backward pass\n",
    "  for p in parameters:\n",
    "    p.grad = None\n",
    "  loss.backward()\n",
    "  \n",
    "  # update\n",
    "  lr = 0.1 if i < 100000 else 0.01 # step learning rate decay\n",
    "  for p in parameters:\n",
    "    p.data += -lr * p.grad\n",
    "\n",
    "  # track stats\n",
    "  if i % 10000 == 0: # print every once in a while\n",
    "    print(f'{i:7d}/{max_steps:7d}: {loss.item():.4f}')\n",
    "  lossi.append(loss.log10().item())"
   ]
  },
  {
   "cell_type": "code",
   "execution_count": 82,
   "metadata": {},
   "outputs": [
    {
     "data": {
      "text/plain": [
       "[<matplotlib.lines.Line2D at 0x14dcb5150>]"
      ]
     },
     "execution_count": 82,
     "metadata": {},
     "output_type": "execute_result"
    },
    {
     "data": {
      "image/png": "[encoded data removed]",
      "text/plain": [
       "<Figure size 640x480 with 1 Axes>"
      ]
     },
     "metadata": {},
     "output_type": "display_data"
    }
   ],
   "source": [
    "plt.plot(lossi)"
   ]
  },
  {
   "cell_type": "code",
   "execution_count": null,
   "metadata": {},
   "outputs": [
    {
     "data": {
      "text/plain": [
       "(array([2165.,  152.,   94.,   59.,   51.,   49.,   48.,   36.,   35.,\n",
       "          33.,   42.,   31.,   45.,   30.,   37.,   24.,   17.,   20.,\n",
       "          20.,   14.,   28.,   17.,   12.,   22.,   34.,   20.,   22.,\n",
       "          15.,    8.,   26.,   23.,   22.,   24.,   28.,   40.,   15.,\n",
       "          23.,   36.,   20.,   27.,   21.,   25.,   30.,   53.,   45.,\n",
       "          64.,   64.,   88.,  115., 2431.]),\n",
       " array([-1.  , -0.96, -0.92, -0.88, -0.84, -0.8 , -0.76, -0.72, -0.68,\n",
       "        -0.64, -0.6 , -0.56, -0.52, -0.48, -0.44, -0.4 , -0.36, -0.32,\n",
       "        -0.28, -0.24, -0.2 , -0.16, -0.12, -0.08, -0.04,  0.  ,  0.04,\n",
       "         0.08,  0.12,  0.16,  0.2 ,  0.24,  0.28,  0.32,  0.36,  0.4 ,\n",
       "         0.44,  0.48,  0.52,  0.56,  0.6 ,  0.64,  0.68,  0.72,  0.76,\n",
       "         0.8 ,  0.84,  0.88,  0.92,  0.96,  1.  ]),\n",
       " <BarContainer object of 50 artists>)"
      ]
     },
     "execution_count": 74,
     "metadata": {},
     "output_type": "execute_result"
    },
    {
     "data": {
      "image/png": "[encoded data removed]",
      "text/plain": [
       "<Figure size 640x480 with 1 Axes>"
      ]
     },
     "metadata": {},
     "output_type": "display_data"
    }
   ],
   "source": [
    "plt.hist(h.view(-1).tolist(), 50)\n",
    "# We have two distributions that are very much centered around 1 and -1 we need to make sure we don't\n",
    "# have inactive neurons"
   ]
  },
  {
   "cell_type": "code",
   "execution_count": null,
   "metadata": {},
   "outputs": [
    {
     "data": {
      "text/plain": [
       "<matplotlib.image.AxesImage at 0x14da91790>"
      ]
     },
     "execution_count": 75,
     "metadata": {},
     "output_type": "execute_result"
    },
    {
     "data": {
      "image/png": "[encoded data removed]",
      "text/plain": [
       "<Figure size 2000x1000 with 1 Axes>"
      ]
     },
     "metadata": {},
     "output_type": "display_data"
    }
   ],
   "source": [
    "# If any neuron had a complete white coloumn, then it would be \"dead\"\n",
    "# If a coloumn is solid, this is a similar problem\n",
    "plt.figure(figsize=(20,10))\n",
    "plt.imshow(h.abs() > 0.99, cmap='gray', interpolation='nearest')"
   ]
  },
  {
   "cell_type": "code",
   "execution_count": 85,
   "metadata": {},
   "outputs": [],
   "source": [
    "# calibrate the batch norm at the end of training\n",
    "\n",
    "with torch.no_grad():\n",
    "  # pass the training set through\n",
    "  emb = C[Xtr]\n",
    "  embcat = emb.view(emb.shape[0], -1)\n",
    "  hpreact = embcat @ W1 # + b1\n",
    "  # measure the mean/std over the entire training set\n",
    "  bnmean = hpreact.mean(0, keepdim=True)\n",
    "  bnstd = hpreact.std(0, keepdim=True)"
   ]
  },
  {
   "cell_type": "code",
   "execution_count": 90,
   "metadata": {},
   "outputs": [
    {
     "name": "stdout",
     "output_type": "stream",
     "text": [
      "bnmean=tensor([[-2.2970, -0.3542, -1.0250,  1.2417,  1.7156,  1.0104,  1.9421, -2.2016,\n",
      "         -0.1149,  0.1288, -1.7226, -1.9206, -0.8845,  0.5986, -0.2768, -0.6284,\n",
      "          0.9816, -2.1942,  0.0923,  0.7874, -0.5334,  0.2637,  0.6071,  1.3971,\n",
      "          0.7071,  1.2735,  1.4783, -0.4102,  0.8399,  1.8243, -0.2216, -1.3709,\n",
      "         -0.7382, -1.0496, -0.1912, -1.3968, -1.8532,  0.6656, -0.8664,  0.8545,\n",
      "          0.0631, -0.4483, -0.5056,  0.5454,  1.1928,  0.7781,  2.7712, -0.8657,\n",
      "          1.5365,  1.3847,  0.8919,  0.0069,  1.7708,  1.3256,  0.9914, -1.8419,\n",
      "         -0.1788,  0.6500,  2.0234, -2.8832, -0.4741,  0.5979,  0.0823,  0.6334,\n",
      "          2.2062,  1.2446, -0.3732,  1.8088, -0.5319, -0.4181,  0.0890,  0.6783,\n",
      "          0.8857, -0.9288, -3.1558,  0.3644,  1.0780,  0.1203, -0.8809,  0.6275,\n",
      "          0.1028,  0.9920,  1.8570,  0.3860, -0.3294,  0.2265, -2.3134,  0.3237,\n",
      "          0.9077,  0.1943, -0.5702,  1.4844,  0.0873, -1.0761, -1.3595,  0.2768,\n",
      "         -0.6639, -0.5673, -0.0052, -1.6512,  0.1003,  0.1064, -1.8019,  0.6176,\n",
      "          1.5347, -0.4113, -0.4420,  0.0421,  1.2588, -0.2314,  1.8418,  0.3781,\n",
      "         -0.0886,  1.2018,  2.1895,  2.1256, -0.2680,  0.0539,  0.4215, -0.9583,\n",
      "         -0.9641, -1.0443, -0.6551,  1.0361, -0.8763, -0.5770,  0.3894, -1.1745,\n",
      "         -1.1189, -0.5919,  2.5768, -0.3712,  1.0103,  1.0773,  0.8931,  1.3048,\n",
      "          0.0079,  1.6339,  0.2019,  0.4307,  1.1395, -0.2144,  2.4487,  0.1100,\n",
      "          0.5636,  1.4651,  0.3050,  0.1858,  0.4534,  1.3780, -2.3992, -0.0050,\n",
      "          1.5993,  1.0320,  0.6865, -0.5546,  1.4928, -1.6864, -0.1022,  0.9741,\n",
      "         -0.3273, -0.0154, -0.3540, -1.7353, -1.1672, -0.6939, -0.0933, -0.2692,\n",
      "         -2.9427, -0.7441,  1.6285, -1.7909,  0.3258, -0.5591, -1.4246,  0.9464,\n",
      "          1.3383, -1.7196,  0.5827, -0.7558,  2.2962,  1.0402,  0.4604, -0.6489,\n",
      "          1.0647,  0.3088, -0.9623, -0.7747,  2.8055,  1.1778,  0.3403,  1.4893,\n",
      "         -0.3645,  0.4717,  0.6180,  1.9244,  1.2956, -1.6483,  0.4325,  0.9518]])\n"
     ]
    }
   ],
   "source": [
    "print(f\"{bnmean=}\")"
   ]
  },
  {
   "cell_type": "code",
   "execution_count": 91,
   "metadata": {},
   "outputs": [
    {
     "name": "stdout",
     "output_type": "stream",
     "text": [
      "bnmean_running=tensor([[-2.3445e+00, -3.5033e-01, -1.0127e+00,  1.2629e+00,  1.7157e+00,\n",
      "          1.0085e+00,  1.9285e+00, -2.2175e+00, -1.2662e-01,  1.3021e-01,\n",
      "         -1.7290e+00, -1.9392e+00, -8.8940e-01,  6.0992e-01, -2.6688e-01,\n",
      "         -6.0495e-01,  9.8813e-01, -2.2140e+00,  6.0812e-02,  7.7775e-01,\n",
      "         -5.3137e-01,  2.8868e-01,  6.0593e-01,  1.3920e+00,  7.1696e-01,\n",
      "          1.2921e+00,  1.5023e+00, -4.1435e-01,  8.3972e-01,  1.8148e+00,\n",
      "         -2.3547e-01, -1.3639e+00, -7.2678e-01, -1.0638e+00, -1.9584e-01,\n",
      "         -1.4107e+00, -1.8722e+00,  6.5586e-01, -8.4153e-01,  8.7341e-01,\n",
      "          4.7287e-02, -4.7717e-01, -4.9639e-01,  5.2343e-01,  1.2032e+00,\n",
      "          7.9041e-01,  2.7750e+00, -8.7955e-01,  1.5351e+00,  1.3743e+00,\n",
      "          8.7429e-01, -8.4282e-03,  1.7559e+00,  1.3274e+00,  9.8031e-01,\n",
      "         -1.8463e+00, -1.6474e-01,  6.5883e-01,  2.0454e+00, -2.8682e+00,\n",
      "         -4.9856e-01,  5.8613e-01,  6.3043e-02,  6.2300e-01,  2.2022e+00,\n",
      "          1.2326e+00, -3.7524e-01,  1.7984e+00, -5.2424e-01, -4.0092e-01,\n",
      "          8.6827e-02,  6.8041e-01,  8.7291e-01, -9.1099e-01, -3.1453e+00,\n",
      "          3.3873e-01,  1.0929e+00,  1.3299e-01, -8.7532e-01,  6.1756e-01,\n",
      "          1.1488e-01,  9.7655e-01,  1.8089e+00,  3.9112e-01, -3.2178e-01,\n",
      "          2.2209e-01, -2.3064e+00,  3.1942e-01,  8.8715e-01,  2.1764e-01,\n",
      "         -5.4672e-01,  1.5015e+00,  9.3864e-02, -1.0831e+00, -1.3443e+00,\n",
      "          2.7512e-01, -6.8281e-01, -5.7686e-01, -1.1208e-02, -1.6630e+00,\n",
      "          9.9757e-02,  1.1951e-01, -1.8050e+00,  6.3491e-01,  1.5472e+00,\n",
      "         -3.7391e-01, -4.5635e-01,  4.2569e-02,  1.2881e+00, -2.6582e-01,\n",
      "          1.8534e+00,  3.9140e-01, -9.1482e-02,  1.1980e+00,  2.1848e+00,\n",
      "          2.0979e+00, -2.7602e-01,  3.8911e-02,  3.9790e-01, -9.6928e-01,\n",
      "         -9.6343e-01, -1.0392e+00, -6.6712e-01,  1.0604e+00, -8.8706e-01,\n",
      "         -5.8263e-01,  3.6555e-01, -1.1788e+00, -1.1091e+00, -6.0388e-01,\n",
      "          2.5679e+00, -3.7868e-01,  1.0107e+00,  1.0697e+00,  9.2988e-01,\n",
      "          1.3159e+00,  1.3381e-02,  1.6198e+00,  2.0990e-01,  4.3387e-01,\n",
      "          1.1312e+00, -2.4042e-01,  2.4514e+00,  9.8081e-02,  5.7090e-01,\n",
      "          1.4514e+00,  3.1907e-01,  1.9280e-01,  4.4851e-01,  1.3951e+00,\n",
      "         -2.4011e+00, -2.4874e-03,  1.5790e+00,  1.0281e+00,  6.8811e-01,\n",
      "         -5.6577e-01,  1.5124e+00, -1.6869e+00, -1.0655e-01,  9.4809e-01,\n",
      "         -3.1683e-01,  6.8080e-03, -3.6051e-01, -1.7126e+00, -1.1725e+00,\n",
      "         -7.0245e-01, -8.1265e-02, -2.6322e-01, -2.9299e+00, -7.4770e-01,\n",
      "          1.6153e+00, -1.7935e+00,  3.2420e-01, -5.6120e-01, -1.4244e+00,\n",
      "          9.4607e-01,  1.3598e+00, -1.7096e+00,  5.8516e-01, -7.6604e-01,\n",
      "          2.3056e+00,  1.0422e+00,  4.4339e-01, -6.4343e-01,  1.0491e+00,\n",
      "          3.1518e-01, -9.5634e-01, -7.9488e-01,  2.8179e+00,  1.1755e+00,\n",
      "          3.4280e-01,  1.5005e+00, -3.6518e-01,  4.7081e-01,  6.3424e-01,\n",
      "          1.9063e+00,  1.2972e+00, -1.6339e+00,  4.1245e-01,  9.4788e-01]])\n"
     ]
    }
   ],
   "source": [
    "print(f\"{bnmean_running=}\")"
   ]
  },
  {
   "cell_type": "code",
   "execution_count": 92,
   "metadata": {},
   "outputs": [
    {
     "name": "stdout",
     "output_type": "stream",
     "text": [
      "train 2.078073263168335\n",
      "val 2.1128156185150146\n"
     ]
    }
   ],
   "source": [
    "@torch.no_grad() # this decorator disables gradient tracking\n",
    "def split_loss(split):\n",
    "  x,y = {\n",
    "    'train': (Xtr, Ytr),\n",
    "    'val': (Xdev, Ydev),\n",
    "    'test': (Xte, Yte),\n",
    "  }[split]\n",
    "  emb = C[x] # (N, block_size, n_embd)\n",
    "  embcat = emb.view(emb.shape[0], -1) # concat into (N, block_size * n_embd)\n",
    "  hpreact = embcat @ W1 + b1\n",
    "  #hpreact = bngain * (hpreact - hpreact.mean(0, keepdim=True)) / hpreact.std(0, keepdim=True) + bnbias\n",
    "  hpreact = bngain * (hpreact - bnmean_running) / bnstd_running + bnbias\n",
    "  h = torch.tanh(hpreact) # (N, n_hidden)\n",
    "  logits = h @ W2 + b2 # (N, vocab_size)\n",
    "  loss = F.cross_entropy(logits, y)\n",
    "  print(split, loss.item())\n",
    "\n",
    "split_loss('train')\n",
    "split_loss('val')"
   ]
  },
  {
   "cell_type": "code",
   "execution_count": null,
   "metadata": {},
   "outputs": [
    {
     "data": {
      "text/plain": [
       "tensor(1.3863)"
      ]
     },
     "execution_count": 66,
     "metadata": {},
     "output_type": "execute_result"
    }
   ],
   "source": [
    "-torch.tensor(1/4).log()"
   ]
  },
  {
   "cell_type": "code",
   "execution_count": 93,
   "metadata": {},
   "outputs": [
    {
     "name": "stdout",
     "output_type": "stream",
     "text": [
      "47024\n"
     ]
    }
   ],
   "source": [
    "# SUMMARY + PYTORCHIFYING -----------\n",
    "# Let's train a deeper network\n",
    "# The classes we create here are the same API as nn.Module in PyTorch\n",
    "\n",
    "class Linear:\n",
    "  \n",
    "  def __init__(self, fan_in, fan_out, bias=True):\n",
    "    self.weight = torch.randn((fan_in, fan_out), generator=g) / fan_in**0.5\n",
    "    self.bias = torch.zeros(fan_out) if bias else None\n",
    "  \n",
    "  def __call__(self, x):\n",
    "    self.out = x @ self.weight\n",
    "    if self.bias is not None:\n",
    "      self.out += self.bias\n",
    "    return self.out\n",
    "  \n",
    "  def parameters(self):\n",
    "    return [self.weight] + ([] if self.bias is None else [self.bias])\n",
    "\n",
    "\n",
    "class BatchNorm1d:\n",
    "  \n",
    "  def __init__(self, dim, eps=1e-5, momentum=0.1):\n",
    "    self.eps = eps\n",
    "    self.momentum = momentum\n",
    "    self.training = True\n",
    "    # parameters (trained with backprop)\n",
    "    self.gamma = torch.ones(dim)\n",
    "    self.beta = torch.zeros(dim)\n",
    "    # buffers (trained with a running 'momentum update')\n",
    "    self.running_mean = torch.zeros(dim)\n",
    "    self.running_var = torch.ones(dim)\n",
    "  \n",
    "  def __call__(self, x):\n",
    "    # calculate the forward pass\n",
    "    if self.training:\n",
    "      xmean = x.mean(0, keepdim=True) # batch mean\n",
    "      xvar = x.var(0, keepdim=True) # batch variance\n",
    "    else:\n",
    "      xmean = self.running_mean\n",
    "      xvar = self.running_var\n",
    "    xhat = (x - xmean) / torch.sqrt(xvar + self.eps) # normalize to unit variance\n",
    "    self.out = self.gamma * xhat + self.beta\n",
    "    # update the buffers\n",
    "    if self.training:\n",
    "      with torch.no_grad():\n",
    "        self.running_mean = (1 - self.momentum) * self.running_mean + self.momentum * xmean\n",
    "        self.running_var = (1 - self.momentum) * self.running_var + self.momentum * xvar\n",
    "    return self.out\n",
    "  \n",
    "  def parameters(self):\n",
    "    return [self.gamma, self.beta]\n",
    "\n",
    "class Tanh:\n",
    "  def __call__(self, x):\n",
    "    self.out = torch.tanh(x)\n",
    "    return self.out\n",
    "  def parameters(self):\n",
    "    return []\n",
    "\n",
    "n_embd = 10 # the dimensionality of the character embedding vectors\n",
    "n_hidden = 100 # the number of neurons in the hidden layer of the MLP\n",
    "g = torch.Generator().manual_seed(2147483647) # for reproducibility\n",
    "\n",
    "C = torch.randn((vocab_size, n_embd),            generator=g)\n",
    "layers = [\n",
    "  Linear(n_embd * block_size, n_hidden, bias=False), BatchNorm1d(n_hidden), Tanh(),\n",
    "  Linear(           n_hidden, n_hidden, bias=False), BatchNorm1d(n_hidden), Tanh(),\n",
    "  Linear(           n_hidden, n_hidden, bias=False), BatchNorm1d(n_hidden), Tanh(),\n",
    "  Linear(           n_hidden, n_hidden, bias=False), BatchNorm1d(n_hidden), Tanh(),\n",
    "  Linear(           n_hidden, n_hidden, bias=False), BatchNorm1d(n_hidden), Tanh(),\n",
    "  Linear(           n_hidden, vocab_size, bias=False), BatchNorm1d(vocab_size),\n",
    "]\n",
    "# layers = [\n",
    "#   Linear(n_embd * block_size, n_hidden), Tanh(),\n",
    "#   Linear(           n_hidden, n_hidden), Tanh(),\n",
    "#   Linear(           n_hidden, n_hidden), Tanh(),\n",
    "#   Linear(           n_hidden, n_hidden), Tanh(),\n",
    "#   Linear(           n_hidden, n_hidden), Tanh(),\n",
    "#   Linear(           n_hidden, vocab_size),\n",
    "# ]\n",
    "\n",
    "with torch.no_grad():\n",
    "  # last layer: make less confident\n",
    "  layers[-1].gamma *= 0.1\n",
    "  #layers[-1].weight *= 0.1\n",
    "  # all other layers: apply gain\n",
    "  for layer in layers[:-1]:\n",
    "    if isinstance(layer, Linear):\n",
    "      layer.weight *= 1.0 #5/3\n",
    "\n",
    "parameters = [C] + [p for layer in layers for p in layer.parameters()]\n",
    "print(sum(p.nelement() for p in parameters)) # number of parameters in total\n",
    "for p in parameters:\n",
    "  p.requires_grad = True"
   ]
  },
  {
   "cell_type": "code",
   "execution_count": 94,
   "metadata": {},
   "outputs": [
    {
     "name": "stdout",
     "output_type": "stream",
     "text": [
      "      0/ 200000: 3.2870\n"
     ]
    }
   ],
   "source": [
    "# same optimization as last time\n",
    "max_steps = 200000\n",
    "batch_size = 32\n",
    "lossi = []\n",
    "ud = []\n",
    "\n",
    "for i in range(max_steps):\n",
    "  \n",
    "  # minibatch construct\n",
    "  ix = torch.randint(0, Xtr.shape[0], (batch_size,), generator=g)\n",
    "  Xb, Yb = Xtr[ix], Ytr[ix] # batch X,Y\n",
    "  \n",
    "  # forward pass\n",
    "  emb = C[Xb] # embed the characters into vectors\n",
    "  x = emb.view(emb.shape[0], -1) # concatenate the vectors\n",
    "  for layer in layers:\n",
    "    x = layer(x)\n",
    "  loss = F.cross_entropy(x, Yb) # loss function\n",
    "  \n",
    "  # backward pass\n",
    "  for layer in layers:\n",
    "    layer.out.retain_grad() # AFTER_DEBUG: would take out retain_graph\n",
    "  for p in parameters:\n",
    "    p.grad = None\n",
    "  loss.backward()\n",
    "  \n",
    "  # update\n",
    "  lr = 0.1 if i < 150000 else 0.01 # step learning rate decay\n",
    "  for p in parameters:\n",
    "    p.data += -lr * p.grad\n",
    "\n",
    "  # track stats\n",
    "  if i % 10000 == 0: # print every once in a while\n",
    "    print(f'{i:7d}/{max_steps:7d}: {loss.item():.4f}')\n",
    "  lossi.append(loss.log10().item())\n",
    "  with torch.no_grad():\n",
    "    ud.append([((lr*p.grad).std() / p.data.std()).log10().item() for p in parameters])\n",
    "\n",
    "  if i >= 1000:\n",
    "    break # AFTER_DEBUG: would take out obviously to run full optimization"
   ]
  }
 ],
 "metadata": {
  "kernelspec": {
   "display_name": "Python 3 (ipykernel)",
   "language": "python",
   "name": "python3"
  },
  "language_info": {
   "codemirror_mode": {
    "name": "ipython",
    "version": 3
   },
   "file_extension": ".py",
   "mimetype": "text/x-python",
   "name": "python",
   "nbconvert_exporter": "python",
   "pygments_lexer": "ipython3",
   "version": "3.11.7"
  }
 },
 "nbformat": 4,
 "nbformat_minor": 2
}
