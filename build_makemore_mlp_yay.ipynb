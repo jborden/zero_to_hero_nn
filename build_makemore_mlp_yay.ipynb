{
 "cells": [
  {
   "cell_type": "code",
   "execution_count": 106,
   "metadata": {},
   "outputs": [],
   "source": [
    "import torch\n",
    "import torch.nn.functional as F\n",
    "import matplotlib\n",
    "%matplotlib inline"
   ]
  },
  {
   "cell_type": "code",
   "execution_count": 26,
   "metadata": {},
   "outputs": [],
   "source": [
    "# Get the vocabulary for the mappings of to and from intergers\n",
    "\n",
    "words = open(\"names.txt\",'r').read().splitlines()\n",
    "chars = sorted(list(set(''.join(words))))\n",
    "stoi = {s:i+1 for i,s in enumerate(chars)}\n",
    "stoi['.'] = 0\n",
    "itos = {v:k for k,v in stoi.items()}\n"
   ]
  },
  {
   "cell_type": "code",
   "execution_count": 121,
   "metadata": {},
   "outputs": [],
   "source": [
    "# Build the dataset\n",
    "X,Y = [],[]\n",
    "context_length = 3\n",
    "\n",
    "for w in words:\n",
    "    context = [0] * context_length\n",
    "    #print(w)\n",
    "    for ch in w + '.':\n",
    "        ix = stoi[ch]\n",
    "        X.append(context)\n",
    "        Y.append(ix)\n",
    "        #print(f\"{''.join(itos[i] for i in context)} ---> {itos[ix]}\")\n",
    "        context = context[1:] + [ix]\n",
    "\n",
    "X = torch.tensor(X)\n",
    "Y = torch.tensor(Y)"
   ]
  },
  {
   "cell_type": "code",
   "execution_count": 122,
   "metadata": {},
   "outputs": [
    {
     "data": {
      "text/plain": [
       "(torch.Size([228146, 3]), torch.int64, torch.Size([228146]), torch.int64)"
      ]
     },
     "execution_count": 122,
     "metadata": {},
     "output_type": "execute_result"
    }
   ],
   "source": [
    "X.shape, X.dtype, Y.shape, Y.dtype\n"
   ]
  },
  {
   "cell_type": "code",
   "execution_count": 64,
   "metadata": {},
   "outputs": [
    {
     "data": {
      "text/plain": [
       "tensor([[ 1.4140, -0.9164],\n",
       "        [ 0.6345, -0.9186],\n",
       "        [-0.4419,  0.8661],\n",
       "        [-0.1640, -0.3767],\n",
       "        [ 0.1695,  0.7452],\n",
       "        [-2.2785, -0.4671],\n",
       "        [ 0.1070,  0.6598],\n",
       "        [-0.5363,  1.1308],\n",
       "        [ 1.4783,  0.9955],\n",
       "        [-0.0713,  0.4893],\n",
       "        [ 0.6374,  0.9106],\n",
       "        [ 1.3740, -2.3133],\n",
       "        [ 1.2617, -1.1571],\n",
       "        [ 1.6125,  0.0337],\n",
       "        [ 0.1694, -1.0704],\n",
       "        [ 1.4233,  0.2604],\n",
       "        [-1.0649, -0.5052],\n",
       "        [ 0.3267,  0.1601],\n",
       "        [ 1.0696, -0.2487],\n",
       "        [ 0.4330, -1.8828],\n",
       "        [ 0.0865,  0.5502],\n",
       "        [ 0.4356,  0.5052],\n",
       "        [ 0.5720,  0.0388],\n",
       "        [-0.8659, -0.2791],\n",
       "        [-2.6366,  0.6593],\n",
       "        [-1.1495, -0.4954],\n",
       "        [ 0.0128, -0.3272]])"
      ]
     },
     "execution_count": 64,
     "metadata": {},
     "output_type": "execute_result"
    }
   ],
   "source": [
    "C = torch.randn((27,2))\n",
    "C"
   ]
  },
  {
   "cell_type": "code",
   "execution_count": 67,
   "metadata": {},
   "outputs": [
    {
     "data": {
      "text/plain": [
       "torch.Size([32, 3, 2])"
      ]
     },
     "execution_count": 67,
     "metadata": {},
     "output_type": "execute_result"
    }
   ],
   "source": [
    "# Create the embeddings\n",
    "emb = C[X]\n",
    "emb.shape"
   ]
  },
  {
   "cell_type": "code",
   "execution_count": 82,
   "metadata": {},
   "outputs": [
    {
     "data": {
      "text/plain": [
       "torch.Size([32, 100])"
      ]
     },
     "execution_count": 82,
     "metadata": {},
     "output_type": "execute_result"
    }
   ],
   "source": [
    "# Create the hidden layer\n",
    "W1 = torch.randn(6,100)\n",
    "b1 = torch.randn(100)\n",
    "h = torch.tanh(emb.view(emb.shape[0],6) @ W1 + b1)"
   ]
  },
  {
   "cell_type": "code",
   "execution_count": 84,
   "metadata": {},
   "outputs": [],
   "source": [
    "# Create the output layer\n",
    "W2 = torch.randn(100,27)\n",
    "b2 = torch.randn(27)\n",
    "\n",
    "logits = h @ W2 + b2\n"
   ]
  },
  {
   "cell_type": "code",
   "execution_count": 91,
   "metadata": {},
   "outputs": [
    {
     "data": {
      "text/plain": [
       "tensor(12.2805)"
      ]
     },
     "execution_count": 91,
     "metadata": {},
     "output_type": "execute_result"
    }
   ],
   "source": [
    "counts = logits.exp()\n",
    "probs = counts / counts.sum(1,keepdim=True)\n",
    "loss = -probs[torch.arange(32),Y].log().mean()\n",
    "loss"
   ]
  },
  {
   "cell_type": "code",
   "execution_count": 123,
   "metadata": {},
   "outputs": [
    {
     "data": {
      "text/plain": [
       "(torch.Size([228146, 3]), torch.Size([228146]))"
      ]
     },
     "execution_count": 123,
     "metadata": {},
     "output_type": "execute_result"
    }
   ],
   "source": [
    "#----- more respectable\n",
    "X.shape, Y.shape\n"
   ]
  },
  {
   "cell_type": "code",
   "execution_count": 127,
   "metadata": {},
   "outputs": [],
   "source": [
    "g = torch.Generator().manual_seed(2147483647)\n",
    "C = torch.randn((27,2), generator=g)\n",
    "W1 = torch.rand((6,100), generator=g)\n",
    "b1 = torch.randn(100, generator=g)\n",
    "W2 = torch.randn(100,27, generator=g)\n",
    "b2 = torch.randn(27, generator=g)\n",
    "parameters = [C , W1, b1, W2, b2]"
   ]
  },
  {
   "cell_type": "code",
   "execution_count": 125,
   "metadata": {},
   "outputs": [
    {
     "data": {
      "text/plain": [
       "3481"
      ]
     },
     "execution_count": 125,
     "metadata": {},
     "output_type": "execute_result"
    }
   ],
   "source": [
    "sum(p.nelement() for p in parameters)"
   ]
  },
  {
   "cell_type": "code",
   "execution_count": 128,
   "metadata": {},
   "outputs": [],
   "source": [
    "# emb = C[X]\n",
    "# h = torch.tanh(emb.view(-1,6) @ W1 + b1)\n",
    "# logits = h @ W2 + b2 \n",
    "# counts = logits.exp()\n",
    "# prob = counts / counts.sum(1, keepdims=True)\n",
    "# loss = -prob[torch.arange(32), Y].log().mean()\n",
    "# loss"
   ]
  },
  {
   "cell_type": "code",
   "execution_count": 129,
   "metadata": {},
   "outputs": [],
   "source": [
    "for p in parameters:\n",
    "    p.requires_grad = True\n"
   ]
  },
  {
   "cell_type": "code",
   "execution_count": 130,
   "metadata": {},
   "outputs": [
    {
     "name": "stdout",
     "output_type": "stream",
     "text": [
      "loss: 18.71084976196289\n",
      "loss: 15.05393123626709\n",
      "loss: 12.727892875671387\n",
      "loss: 11.155088424682617\n",
      "loss: 10.05884838104248\n",
      "loss: 9.131641387939453\n",
      "loss: 8.403254508972168\n",
      "loss: 7.905227184295654\n",
      "loss: 7.516906261444092\n",
      "loss: 7.18239688873291\n"
     ]
    }
   ],
   "source": [
    "for _ in range(10):\n",
    "    # forward pass\n",
    "    emb = C[X]\n",
    "    h = torch.tanh(emb.view(-1,6) @ W1 + b1)\n",
    "    logits = h @ W2 + b2 \n",
    "    counts = logits.exp()\n",
    "    loss = F.cross_entropy(logits, Y)\n",
    "    print(f\"loss: {loss.item()}\")\n",
    "    # backward pass\n",
    "    for p in parameters:\n",
    "        p.grad = None\n",
    "    loss.backward()\n",
    "    # update\n",
    "    for p in parameters:\n",
    "        p.data += -0.1 * p.grad\n",
    "\n"
   ]
  },
  {
   "cell_type": "code",
   "execution_count": null,
   "metadata": {},
   "outputs": [],
   "source": []
  }
 ],
 "metadata": {
  "kernelspec": {
   "display_name": "Python 3 (ipykernel)",
   "language": "python",
   "name": "python3"
  },
  "language_info": {
   "codemirror_mode": {
    "name": "ipython",
    "version": 3
   },
   "file_extension": ".py",
   "mimetype": "text/x-python",
   "name": "python",
   "nbconvert_exporter": "python",
   "pygments_lexer": "ipython3",
   "version": "3.11.7"
  }
 },
 "nbformat": 4,
 "nbformat_minor": 2
}
