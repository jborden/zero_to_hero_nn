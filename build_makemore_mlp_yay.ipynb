{
 "cells": [
  {
   "cell_type": "code",
   "execution_count": 151,
   "metadata": {},
   "outputs": [],
   "source": [
    "import torch\n",
    "import torch.nn.functional as F\n",
    "import matplotlib.pyplot as plt\n",
    "%matplotlib inline"
   ]
  },
  {
   "cell_type": "code",
   "execution_count": 183,
   "metadata": {},
   "outputs": [],
   "source": [
    "# Get the vocabulary for the mappings of to and from intergers\n",
    "\n",
    "words = open(\"names.txt\",'r').read().splitlines()\n",
    "chars = sorted(list(set(''.join(words))))\n",
    "stoi = {s:i+1 for i,s in enumerate(chars)}\n",
    "stoi['.'] = 0\n",
    "itos = {v:k for k,v in stoi.items()}\n"
   ]
  },
  {
   "cell_type": "code",
   "execution_count": 121,
   "metadata": {},
   "outputs": [],
   "source": [
    "# Build the dataset\n",
    "X,Y = [],[]\n",
    "context_length = 3\n",
    "\n",
    "for w in words:\n",
    "    context = [0] * context_length\n",
    "    #print(w)\n",
    "    for ch in w + '.':\n",
    "        ix = stoi[ch]\n",
    "        X.append(context)\n",
    "        Y.append(ix)\n",
    "        #print(f\"{''.join(itos[i] for i in context)} ---> {itos[ix]}\")\n",
    "        context = context[1:] + [ix]\n",
    "\n",
    "X = torch.tensor(X)\n",
    "Y = torch.tensor(Y)"
   ]
  },
  {
   "cell_type": "code",
   "execution_count": 122,
   "metadata": {},
   "outputs": [
    {
     "data": {
      "text/plain": [
       "(torch.Size([228146, 3]), torch.int64, torch.Size([228146]), torch.int64)"
      ]
     },
     "execution_count": 122,
     "metadata": {},
     "output_type": "execute_result"
    }
   ],
   "source": [
    "X.shape, X.dtype, Y.shape, Y.dtype\n"
   ]
  },
  {
   "cell_type": "code",
   "execution_count": 64,
   "metadata": {},
   "outputs": [
    {
     "data": {
      "text/plain": [
       "tensor([[ 1.4140, -0.9164],\n",
       "        [ 0.6345, -0.9186],\n",
       "        [-0.4419,  0.8661],\n",
       "        [-0.1640, -0.3767],\n",
       "        [ 0.1695,  0.7452],\n",
       "        [-2.2785, -0.4671],\n",
       "        [ 0.1070,  0.6598],\n",
       "        [-0.5363,  1.1308],\n",
       "        [ 1.4783,  0.9955],\n",
       "        [-0.0713,  0.4893],\n",
       "        [ 0.6374,  0.9106],\n",
       "        [ 1.3740, -2.3133],\n",
       "        [ 1.2617, -1.1571],\n",
       "        [ 1.6125,  0.0337],\n",
       "        [ 0.1694, -1.0704],\n",
       "        [ 1.4233,  0.2604],\n",
       "        [-1.0649, -0.5052],\n",
       "        [ 0.3267,  0.1601],\n",
       "        [ 1.0696, -0.2487],\n",
       "        [ 0.4330, -1.8828],\n",
       "        [ 0.0865,  0.5502],\n",
       "        [ 0.4356,  0.5052],\n",
       "        [ 0.5720,  0.0388],\n",
       "        [-0.8659, -0.2791],\n",
       "        [-2.6366,  0.6593],\n",
       "        [-1.1495, -0.4954],\n",
       "        [ 0.0128, -0.3272]])"
      ]
     },
     "execution_count": 64,
     "metadata": {},
     "output_type": "execute_result"
    }
   ],
   "source": [
    "C = torch.randn((27,2))\n",
    "C"
   ]
  },
  {
   "cell_type": "code",
   "execution_count": 67,
   "metadata": {},
   "outputs": [
    {
     "data": {
      "text/plain": [
       "torch.Size([32, 3, 2])"
      ]
     },
     "execution_count": 67,
     "metadata": {},
     "output_type": "execute_result"
    }
   ],
   "source": [
    "# Create the embeddings\n",
    "emb = C[X]\n",
    "emb.shape"
   ]
  },
  {
   "cell_type": "code",
   "execution_count": 82,
   "metadata": {},
   "outputs": [
    {
     "data": {
      "text/plain": [
       "torch.Size([32, 100])"
      ]
     },
     "execution_count": 82,
     "metadata": {},
     "output_type": "execute_result"
    }
   ],
   "source": [
    "# Create the hidden layer\n",
    "W1 = torch.randn(6,100)\n",
    "b1 = torch.randn(100)\n",
    "h = torch.tanh(emb.view(emb.shape[0],6) @ W1 + b1)"
   ]
  },
  {
   "cell_type": "code",
   "execution_count": 84,
   "metadata": {},
   "outputs": [],
   "source": [
    "# Create the output layer\n",
    "W2 = torch.randn(100,27)\n",
    "b2 = torch.randn(27)\n",
    "\n",
    "logits = h @ W2 + b2\n"
   ]
  },
  {
   "cell_type": "code",
   "execution_count": 91,
   "metadata": {},
   "outputs": [
    {
     "data": {
      "text/plain": [
       "tensor(12.2805)"
      ]
     },
     "execution_count": 91,
     "metadata": {},
     "output_type": "execute_result"
    }
   ],
   "source": [
    "counts = logits.exp()\n",
    "probs = counts / counts.sum(1,keepdim=True)\n",
    "loss = -probs[torch.arange(32),Y].log().mean()\n",
    "loss"
   ]
  },
  {
   "cell_type": "code",
   "execution_count": 198,
   "metadata": {},
   "outputs": [
    {
     "data": {
      "text/plain": [
       "(torch.Size([182484, 3]), torch.Size([182484]))"
      ]
     },
     "execution_count": 198,
     "metadata": {},
     "output_type": "execute_result"
    }
   ],
   "source": [
    "#----- more respectable\n",
    "Xtr.shape, Ytr.shape\n"
   ]
  },
  {
   "cell_type": "code",
   "execution_count": 202,
   "metadata": {},
   "outputs": [],
   "source": [
    "# This resets the network\n",
    "g = torch.Generator().manual_seed(2147483647)\n",
    "C = torch.randn((27,2), generator=g)\n",
    "W1 = torch.rand((6,100), generator=g)\n",
    "b1 = torch.randn(100, generator=g)\n",
    "W2 = torch.randn(100,27, generator=g)\n",
    "b2 = torch.randn(27, generator=g)\n",
    "parameters = [C , W1, b1, W2, b2]"
   ]
  },
  {
   "cell_type": "code",
   "execution_count": 200,
   "metadata": {},
   "outputs": [
    {
     "data": {
      "text/plain": [
       "3481"
      ]
     },
     "execution_count": 200,
     "metadata": {},
     "output_type": "execute_result"
    }
   ],
   "source": [
    "# this is the total amount of hyperparameters\n",
    "sum(p.nelement() for p in parameters)"
   ]
  },
  {
   "cell_type": "code",
   "execution_count": 170,
   "metadata": {},
   "outputs": [],
   "source": [
    "# emb = C[X]\n",
    "# h = torch.tanh(emb.view(-1,6) @ W1 + b1)\n",
    "# logits = h @ W2 + b2 \n",
    "# counts = logits.exp()\n",
    "# prob = counts / counts.sum(1, keepdims=True)\n",
    "# loss = -prob[torch.arange(32), Y].log().mean()\n",
    "# loss"
   ]
  },
  {
   "cell_type": "code",
   "execution_count": 197,
   "metadata": {},
   "outputs": [
    {
     "name": "stdout",
     "output_type": "stream",
     "text": [
      "torch.Size([228146, 3]) torch.Size([228146])\n",
      "torch.Size([182484, 3]) torch.Size([182484])\n",
      "torch.Size([22869, 3]) torch.Size([22869])\n",
      "torch.Size([22793, 3]) torch.Size([22793])\n"
     ]
    }
   ],
   "source": [
    "import random\n",
    "random.seed(42)\n",
    "\n",
    "def build_dataset(words):\n",
    "    # Build the dataset\n",
    "    X,Y = [],[]\n",
    "    context_length = 3\n",
    "\n",
    "    for w in words:\n",
    "        context = [0] * context_length\n",
    "        #print(w)\n",
    "        for ch in w + '.':\n",
    "            ix = stoi[ch]\n",
    "            X.append(context)\n",
    "            Y.append(ix)\n",
    "            #print(f\"{''.join(itos[i] for i in context)} ---> {itos[ix]}\")\n",
    "            context = context[1:] + [ix]\n",
    "\n",
    "    X = torch.tensor(X)\n",
    "    Y = torch.tensor(Y)\n",
    "    print(X.shape, Y.shape)\n",
    "    return X, Y\n",
    "\n",
    "random.shuffle(words)\n",
    "n1 = int(0.8*len(words))\n",
    "n2 = int(0.9*len(words))\n",
    "\n",
    "total_set = build_dataset(words)\n",
    "Xtr, Ytr = build_dataset(words[:n1])\n",
    "Xdev, Ydev = build_dataset(words[n1:n2])\n",
    "Xte, Yte = build_dataset(words[n2:])\n"
   ]
  },
  {
   "cell_type": "code",
   "execution_count": 203,
   "metadata": {},
   "outputs": [],
   "source": [
    "for p in parameters:\n",
    "    p.requires_grad = True\n"
   ]
  },
  {
   "cell_type": "code",
   "execution_count": 172,
   "metadata": {},
   "outputs": [],
   "source": [
    "# Let's expore the best learning rate\n",
    "lre = torch.linspace(-3, 0, 1000)\n",
    "lrs = 10**lre"
   ]
  },
  {
   "cell_type": "code",
   "execution_count": 211,
   "metadata": {},
   "outputs": [
    {
     "name": "stdout",
     "output_type": "stream",
     "text": [
      "Batch Loss: 2.3140974044799805\n"
     ]
    }
   ],
   "source": [
    "batch_size = 32\n",
    "lri = []\n",
    "lossi = []\n",
    "for i in range(10000):\n",
    "    # forward pass\n",
    "    batch_size = 32\n",
    "    ix = torch.randint(0, Xtr.shape[0], (batch_size, )) # take 32 random rows\n",
    "    emb = C[Xtr[ix]]\n",
    "    h = torch.tanh(emb.view(-1,6) @ W1 + b1)\n",
    "    logits = h @ W2 + b2 \n",
    "    counts = logits.exp()\n",
    "    loss = F.cross_entropy(logits, Ytr[ix])\n",
    "    #print(f\"loss: {loss.item()}\")\n",
    "    # backward pass\n",
    "    for p in parameters:\n",
    "        p.grad = None\n",
    "    loss.backward()\n",
    "    # update\n",
    "    # lr = lrs[i]\n",
    "    lr = 0.01\n",
    "    for p in parameters:\n",
    "        p.data += -lr * p.grad\n",
    "\n",
    "    # track states \n",
    "    # lri.append(lre[i])\n",
    "    # lossi.append(loss.item())\n",
    "print(f\"Batch Loss: {loss}\")"
   ]
  },
  {
   "cell_type": "code",
   "execution_count": 174,
   "metadata": {},
   "outputs": [
    {
     "data": {
      "text/plain": [
       "[<matplotlib.lines.Line2D at 0x16bf12fd0>]"
      ]
     },
     "execution_count": 174,
     "metadata": {},
     "output_type": "execute_result"
    },
    {
     "data": {
      "image/png": "[encoded data removed]",
      "text/plain": [
       "<Figure size 640x480 with 1 Axes>"
      ]
     },
     "metadata": {},
     "output_type": "display_data"
    }
   ],
   "source": [
    "plt.plot(lri,lossi)"
   ]
  },
  {
   "cell_type": "code",
   "execution_count": 213,
   "metadata": {},
   "outputs": [
    {
     "name": "stdout",
     "output_type": "stream",
     "text": [
      "tensor(2.2984, grad_fn=<NllLossBackward0>)\n",
      "tensor(2.3067, grad_fn=<NllLossBackward0>)\n"
     ]
    }
   ],
   "source": [
    "# Dev Loss\n",
    "emb = C[Xdev]\n",
    "h = torch.tanh(emb.view(-1,6) @ W1 + b1)\n",
    "logits = h @ W2 + b2 \n",
    "counts = logits.exp()\n",
    "loss = F.cross_entropy(logits, Ydev)\n",
    "print(loss)\n",
    "\n",
    "# Test Loss\n",
    "emb = C[Xte]\n",
    "h = torch.tanh(emb.view(-1,6) @ W1 + b1)\n",
    "logits = h @ W2 + b2 \n",
    "counts = logits.exp()\n",
    "loss = F.cross_entropy(logits, Yte)\n",
    "print(loss)\n"
   ]
  },
  {
   "cell_type": "markdown",
   "metadata": {},
   "source": [
    "1. We need to determine the proper learning rate using the above code.\n",
    "   From the above plot, it looks like the exponent of the learning rate should be -1.0, or 0.1\n",
    "2. Train for 10-20k steps\n",
    "3. Once we've trained, do a learning rate decay, say by a factor of 10. So 0.1 -> 0.01"
   ]
  },
  {
   "cell_type": "code",
   "execution_count": 196,
   "metadata": {},
   "outputs": [
    {
     "data": {
      "text/plain": [
       "0.09982204377898363"
      ]
     },
     "execution_count": 196,
     "metadata": {},
     "output_type": "execute_result"
    }
   ],
   "source": [
    "22774 / 228146"
   ]
  },
  {
   "cell_type": "code",
   "execution_count": 215,
   "metadata": {},
   "outputs": [
    {
     "data": {
      "image/png": "[encoded data removed]",
      "text/plain": [
       "<Figure size 800x800 with 1 Axes>"
      ]
     },
     "metadata": {},
     "output_type": "display_data"
    }
   ],
   "source": [
    "# Let's examine embeddings\n",
    "plt.figure(figsize=(8,8))\n",
    "plt.scatter(C[:,0].data, C[:,1].data, s=200)\n",
    "for i in range(C.shape[0]):\n",
    "    plt.text(C[i,0].item(), C[i,1].item(), itos[i], ha=\"center\", va=\"center\", color=\"white\")\n",
    "plt.grid('minor')\n",
    "\n"
   ]
  },
  {
   "cell_type": "code",
   "execution_count": null,
   "metadata": {},
   "outputs": [],
   "source": []
  }
 ],
 "metadata": {
  "kernelspec": {
   "display_name": "Python 3 (ipykernel)",
   "language": "python",
   "name": "python3"
  },
  "language_info": {
   "codemirror_mode": {
    "name": "ipython",
    "version": 3
   },
   "file_extension": ".py",
   "mimetype": "text/x-python",
   "name": "python",
   "nbconvert_exporter": "python",
   "pygments_lexer": "ipython3",
   "version": "3.11.7"
  }
 },
 "nbformat": 4,
 "nbformat_minor": 2
}
